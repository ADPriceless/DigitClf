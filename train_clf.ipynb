{
 "cells": [
  {
   "cell_type": "code",
   "execution_count": 1,
   "metadata": {},
   "outputs": [],
   "source": [
    "from sklearn.datasets import load_digits\n",
    "from sklearn.model_selection import train_test_split"
   ]
  },
  {
   "cell_type": "markdown",
   "metadata": {},
   "source": [
    "### Control Variables"
   ]
  },
  {
   "cell_type": "code",
   "execution_count": 2,
   "metadata": {},
   "outputs": [],
   "source": [
    "SAVE_MODEL = False\n",
    "TRAIN_MODEL = True"
   ]
  },
  {
   "cell_type": "code",
   "execution_count": 18,
   "metadata": {},
   "outputs": [
    {
     "name": "stdout",
     "output_type": "stream",
     "text": [
      "(1437, 64) (360, 64)\n",
      "float64\n",
      "[4 8 8 1 7]\n"
     ]
    }
   ],
   "source": [
    "digits = load_digits()\n",
    "X, y = digits.data, digits.target\n",
    "X_train, X_test, y_train, y_test = train_test_split(X, y, test_size=0.2)\n",
    "print(X_train.shape, X_test.shape)\n",
    "print(X_train.dtype)\n",
    "print(y_train[:5])"
   ]
  },
  {
   "cell_type": "markdown",
   "metadata": {},
   "source": [
    "### Find best model"
   ]
  },
  {
   "cell_type": "code",
   "execution_count": 4,
   "metadata": {},
   "outputs": [],
   "source": [
    "from sklearn.svm import SVC\n",
    "from sklearn.preprocessing import StandardScaler\n",
    "from sklearn.model_selection import GridSearchCV\n",
    "from sklearn.pipeline import Pipeline\n",
    "from sklearn.metrics import make_scorer, f1_score, accuracy_score"
   ]
  },
  {
   "cell_type": "code",
   "execution_count": 5,
   "metadata": {},
   "outputs": [],
   "source": [
    "classifiers = []\n",
    "\n",
    "f1_scorer = make_scorer(f1_score, average=\"macro\")"
   ]
  },
  {
   "cell_type": "markdown",
   "metadata": {},
   "source": [
    "### Support Vector Machine"
   ]
  },
  {
   "cell_type": "code",
   "execution_count": 6,
   "metadata": {},
   "outputs": [
    {
     "name": "stdout",
     "output_type": "stream",
     "text": [
      "SVC(C=10, break_ties=False, cache_size=200, class_weight=None, coef0=0.0,\n",
      "    decision_function_shape='ovr', degree=3, gamma=0.001, kernel='rbf',\n",
      "    max_iter=-1, probability=False, random_state=None, shrinking=True,\n",
      "    tol=0.001, verbose=False)\n",
      "0.9901400721998277\n"
     ]
    }
   ],
   "source": [
    "# no pipeline because no need to scale the inputs\n",
    "param_grid = [\n",
    "    {'C': [1, 10, 100, 1000], 'tol': [0.001, 0.0001], \n",
    "     'kernel': ['linear']},\n",
    "    {'C': [1, 10, 100, 1000], 'tol': [0.001, 0.0001], \n",
    "     'gamma': [0.001, 0.0001], 'kernel': ['rbf']},\n",
    "    {'C': [1, 10, 100, 1000], 'tol': [0.001, 0.0001], \n",
    "     'kernel': ['poly'], 'degree': [3, 4, 5]}\n",
    "]\n",
    "\n",
    "TRAIN_MODEL = True\n",
    "if TRAIN_MODEL:\n",
    "    svc = GridSearchCV(\n",
    "        estimator=SVC(),\n",
    "        param_grid=param_grid,\n",
    "        scoring=f1_scorer,\n",
    "        cv=3\n",
    "    )\n",
    "\n",
    "    svc.fit(X_train, y_train)\n",
    "    classifiers.append((\"svc\", svc.best_estimator_))\n",
    "    print(svc.best_estimator_)\n",
    "    print(svc.best_score_)"
   ]
  },
  {
   "cell_type": "markdown",
   "metadata": {},
   "source": [
    "### Logistic Regression"
   ]
  },
  {
   "cell_type": "code",
   "execution_count": 7,
   "metadata": {},
   "outputs": [],
   "source": [
    "from sklearn.linear_model import LogisticRegression"
   ]
  },
  {
   "cell_type": "code",
   "execution_count": 8,
   "metadata": {},
   "outputs": [
    {
     "name": "stdout",
     "output_type": "stream",
     "text": [
      "Pipeline(memory=None,\n",
      "         steps=[('scale',\n",
      "                 StandardScaler(copy=True, with_mean=True, with_std=True)),\n",
      "                ('logit',\n",
      "                 LogisticRegression(C=1.0, class_weight=None, dual=False,\n",
      "                                    fit_intercept=True, intercept_scaling=1,\n",
      "                                    l1_ratio=None, max_iter=300,\n",
      "                                    multi_class='auto', n_jobs=-1, penalty='l2',\n",
      "                                    random_state=None, solver='lbfgs',\n",
      "                                    tol=0.0001, verbose=0, warm_start=False))],\n",
      "         verbose=False)\n",
      "0.9627965575069842\n"
     ]
    }
   ],
   "source": [
    "logit_pipe = Pipeline(steps=[\n",
    "    (\"scale\", StandardScaler()),\n",
    "    (\"logit\", LogisticRegression(max_iter=300, n_jobs=-1))\n",
    "])\n",
    "\n",
    "param_grid = [\n",
    "    {\"logit__penalty\": [\"l2\"]},\n",
    "    {\"logit__penalty\": [\"elasticnet\"], \n",
    "     \"logit__l1_ratio\": [0.25, 0.5, 0.75], \"logit__solver\": [\"saga\"]}\n",
    "]\n",
    "\n",
    "\n",
    "TRAIN_MODEL = True\n",
    "if TRAIN_MODEL:\n",
    "    del classifiers[1:] # this is so the list doesn't get super long when testing different clfs\n",
    "    \n",
    "    logit_gs = GridSearchCV(\n",
    "        estimator=logit_pipe,\n",
    "        param_grid=param_grid,\n",
    "        scoring=f1_scorer,\n",
    "        cv=3\n",
    "    )\n",
    "\n",
    "    logit_gs.fit(X_train, y_train)\n",
    "    classifiers.append((\"logit\", logit_gs.best_estimator_))\n",
    "    print(logit_gs.best_estimator_)\n",
    "    print(logit_gs.best_score_)"
   ]
  },
  {
   "cell_type": "markdown",
   "metadata": {},
   "source": [
    "### Random Forests Classifier"
   ]
  },
  {
   "cell_type": "code",
   "execution_count": 9,
   "metadata": {},
   "outputs": [],
   "source": [
    "from sklearn.ensemble import RandomForestClassifier"
   ]
  },
  {
   "cell_type": "code",
   "execution_count": 10,
   "metadata": {},
   "outputs": [
    {
     "name": "stdout",
     "output_type": "stream",
     "text": [
      "RandomForestClassifier(bootstrap=True, ccp_alpha=0.0, class_weight=None,\n",
      "                       criterion='gini', max_depth=150, max_features='auto',\n",
      "                       max_leaf_nodes=None, max_samples=None,\n",
      "                       min_impurity_decrease=1e-08, min_impurity_split=None,\n",
      "                       min_samples_leaf=1, min_samples_split=2,\n",
      "                       min_weight_fraction_leaf=0.0, n_estimators=100,\n",
      "                       n_jobs=-1, oob_score=False, random_state=None, verbose=0,\n",
      "                       warm_start=False)\n",
      "0.976012943010069\n"
     ]
    }
   ],
   "source": [
    "param_grid = [\n",
    "    {\"max_depth\": [50, 100, 150], \"min_impurity_decrease\": [1.0e-9, 1.0e-8, 1.0e-7, 1.0e-6]}\n",
    "]\n",
    "\n",
    "TRAIN_MODEL = True\n",
    "if TRAIN_MODEL:\n",
    "    del classifiers[2:] # this is so the list doesn't get super long when testing different clfs\n",
    "    \n",
    "    forest_gs = GridSearchCV(\n",
    "        estimator=RandomForestClassifier(n_jobs=-1),\n",
    "        param_grid=param_grid,\n",
    "        scoring=f1_scorer,\n",
    "        cv=3\n",
    "    )\n",
    "\n",
    "\n",
    "    forest_gs.fit(X_train, y_train)\n",
    "    classifiers.append((\"forest\", forest_gs.best_estimator_))\n",
    "    print(forest_gs.best_estimator_)\n",
    "    print(forest_gs.best_score_)"
   ]
  },
  {
   "cell_type": "markdown",
   "metadata": {},
   "source": [
    "### Ensemble classifier"
   ]
  },
  {
   "cell_type": "code",
   "execution_count": 11,
   "metadata": {},
   "outputs": [
    {
     "name": "stdout",
     "output_type": "stream",
     "text": [
      "3\n"
     ]
    }
   ],
   "source": [
    "print(len(classifiers))"
   ]
  },
  {
   "cell_type": "code",
   "execution_count": 12,
   "metadata": {},
   "outputs": [],
   "source": [
    "from sklearn.ensemble import VotingClassifier"
   ]
  },
  {
   "cell_type": "code",
   "execution_count": 13,
   "metadata": {},
   "outputs": [
    {
     "name": "stdout",
     "output_type": "stream",
     "text": [
      "Accuracy: 0.9944444444444445\n",
      "F1 score: 0.9950843029189629\n"
     ]
    }
   ],
   "source": [
    "clf = VotingClassifier(estimators=classifiers, voting=\"hard\", n_jobs=-1)\n",
    "clf.fit(X_train, y_train)\n",
    "y_pred = clf.predict(X_test)\n",
    "print(\"Accuracy:\", accuracy_score(y_test, y_pred))\n",
    "print(\"F1 score:\", f1_score(y_test, y_pred, average=\"macro\"))"
   ]
  },
  {
   "cell_type": "code",
   "execution_count": 16,
   "metadata": {},
   "outputs": [],
   "source": [
    "from sklearn.metrics import plot_confusion_matrix"
   ]
  },
  {
   "cell_type": "code",
   "execution_count": 17,
   "metadata": {},
   "outputs": [
    {
     "data": {
      "image/png": "[encoded data removed]",
      "text/plain": [
       "<Figure size 432x288 with 2 Axes>"
      ]
     },
     "metadata": {
      "needs_background": "light"
     },
     "output_type": "display_data"
    }
   ],
   "source": [
    "class_names = digits.target_names\n",
    "disp = plot_confusion_matrix(clf, X_test, y_test, display_labels=class_names)"
   ]
  },
  {
   "cell_type": "code",
   "execution_count": 19,
   "metadata": {},
   "outputs": [],
   "source": [
    "SAVE = False\n",
    "if SAVE:\n",
    "    import pickle\n",
    "    with open(\"clf.pickle\", \"wb\") as f:\n",
    "        pickle.dump(clf, f)"
   ]
  },
  {
   "cell_type": "code",
   "execution_count": null,
   "metadata": {},
   "outputs": [],
   "source": []
  }
 ],
 "metadata": {
  "kernelspec": {
   "display_name": "ML",
   "language": "python",
   "name": "machine_learning"
  },
  "language_info": {
   "codemirror_mode": {
    "name": "ipython",
    "version": 3
   },
   "file_extension": ".py",
   "mimetype": "text/x-python",
   "name": "python",
   "nbconvert_exporter": "python",
   "pygments_lexer": "ipython3",
   "version": "3.7.6"
  }
 },
 "nbformat": 4,
 "nbformat_minor": 4
}
